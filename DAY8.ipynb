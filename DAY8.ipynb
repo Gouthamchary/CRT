{
 "cells": [
  {
   "cell_type": "code",
   "execution_count": 4,
   "id": "f3a8c80f",
   "metadata": {},
   "outputs": [
    {
     "name": "stdout",
     "output_type": "stream",
     "text": [
      "Sentences:\n",
      "['Hey Hi Iam Goutham, pursuing b.tech in mallareddy university at hyderabad']\n",
      "\n",
      "Words:\n",
      "['Hey', 'Hi', 'Iam', 'Goutham', 'pursuing', 'btech', 'in', 'mallareddy', 'university', 'at', 'hyderabad']\n"
     ]
    }
   ],
   "source": [
    "#DAY8\n",
    "#Write a Python script that:\n",
    "#1. Tokenizes a sample paragraph into words and sentences.\n",
    "\n",
    "def tokenize_text(text):\n",
    "    sentences = text.split('. ')\n",
    "    words = text.replace('.', '').replace(',', '').split()\n",
    "    \n",
    "    return sentences, words\n",
    "\n",
    "sample_paragraph = \"\"\"Hey Hi Iam Goutham, pursuing b.tech in mallareddy university at hyderabad\"\"\"\n",
    "sentences, words = tokenize_text(sample_paragraph)\n",
    "\n",
    "print(\"Sentences:\")\n",
    "print(sentences)\n",
    "print(\"\\nWords:\")\n",
    "print(words)\n"
   ]
  },
  {
   "cell_type": "code",
   "execution_count": null,
   "id": "acf621de",
   "metadata": {},
   "outputs": [],
   "source": []
  }
 ],
 "metadata": {
  "kernelspec": {
   "display_name": "Python 3 (ipykernel)",
   "language": "python",
   "name": "python3"
  },
  "language_info": {
   "codemirror_mode": {
    "name": "ipython",
    "version": 3
   },
   "file_extension": ".py",
   "mimetype": "text/x-python",
   "name": "python",
   "nbconvert_exporter": "python",
   "pygments_lexer": "ipython3",
   "version": "3.10.9"
  }
 },
 "nbformat": 4,
 "nbformat_minor": 5
}
