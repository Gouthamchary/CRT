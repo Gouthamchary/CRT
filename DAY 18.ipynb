{
 "cells": [
  {
   "cell_type": "code",
   "execution_count": 1,
   "id": "2ee5c4fe",
   "metadata": {},
   "outputs": [
    {
     "name": "stdout",
     "output_type": "stream",
     "text": [
      "Example Domain\n"
     ]
    }
   ],
   "source": [
    "#DAY 18\n",
    "'''Write a Python script to fetch and print \n",
    "the title of a webpage using the 'requests' \n",
    "and 'BeautifulSoup' libraries. \n",
    "Test it with the URL: 'https://example.com'.'''\n",
    "\n",
    "import requests\n",
    "from bs4 import BeautifulSoup\n",
    "\n",
    "def get_page_title(url):\n",
    "    res = requests.get(url)\n",
    "    soup = BeautifulSoup(res.text, 'html.parser')\n",
    "    return soup.title.string if soup.title else 'No title found'\n",
    "\n",
    "# Test\n",
    "print(get_page_title('https://example.com'))\n"
   ]
  },
  {
   "cell_type": "code",
   "execution_count": null,
   "id": "9b772360",
   "metadata": {},
   "outputs": [],
   "source": []
  }
 ],
 "metadata": {
  "kernelspec": {
   "display_name": "Python 3 (ipykernel)",
   "language": "python",
   "name": "python3"
  },
  "language_info": {
   "codemirror_mode": {
    "name": "ipython",
    "version": 3
   },
   "file_extension": ".py",
   "mimetype": "text/x-python",
   "name": "python",
   "nbconvert_exporter": "python",
   "pygments_lexer": "ipython3",
   "version": "3.10.9"
  }
 },
 "nbformat": 4,
 "nbformat_minor": 5
}
