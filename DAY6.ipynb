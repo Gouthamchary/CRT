{
 "cells": [
  {
   "cell_type": "code",
   "execution_count": 6,
   "id": "e69871ca",
   "metadata": {},
   "outputs": [
    {
     "name": "stdout",
     "output_type": "stream",
     "text": [
      "Original Text: This is an example sentence to demonstrate the text preprocessing workflow.\n",
      "Processed Text: example sentence demonstrate text preprocessing workflow.\n"
     ]
    },
    {
     "name": "stderr",
     "output_type": "stream",
     "text": [
      "[nltk_data] Downloading package stopwords to\n",
      "[nltk_data]     C:\\Users\\goutham\\AppData\\Roaming\\nltk_data...\n",
      "[nltk_data]   Package stopwords is already up-to-date!\n"
     ]
    }
   ],
   "source": [
    "#DAY6\n",
    "#Write a Python program to using NLTK and Spacy\n",
    "#Convert text to lowercase.\n",
    "#Remove stopwords using NLTKimport nltk\n",
    "\n",
    "from nltk.corpus import stopwords\n",
    "nltk.download('stopwords')\n",
    "\n",
    "stop_words = set(stopwords.words('english'))\n",
    "\n",
    "def preprocess_text_nltk(text):\n",
    "    text = text.lower()\n",
    "    tokens = text.split()\n",
    "    filtered_tokens = [token for token in tokens if token not in stop_words]\n",
    "    \n",
    "    return \" \".join(filtered_tokens)\n",
    "\n",
    "text = \"This is an example sentence to demonstrate the text preprocessing workflow.\"\n",
    "\n",
    "result = preprocess_text_nltk(text)\n",
    "\n",
    "print(\"Original Text:\", text)\n",
    "print(\"Processed Text:\", result)\n"
   ]
  }
 ],
 "metadata": {
  "kernelspec": {
   "display_name": "Python 3 (ipykernel)",
   "language": "python",
   "name": "python3"
  },
  "language_info": {
   "codemirror_mode": {
    "name": "ipython",
    "version": 3
   },
   "file_extension": ".py",
   "mimetype": "text/x-python",
   "name": "python",
   "nbconvert_exporter": "python",
   "pygments_lexer": "ipython3",
   "version": "3.10.9"
  }
 },
 "nbformat": 4,
 "nbformat_minor": 5
}
