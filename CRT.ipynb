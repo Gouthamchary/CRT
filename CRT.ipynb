{
 "cells": [
  {
   "cell_type": "code",
   "execution_count": 2,
   "id": "a6b09f2d",
   "metadata": {},
   "outputs": [
    {
     "name": "stdout",
     "output_type": "stream",
     "text": [
      "58 is largest number among three\n"
     ]
    }
   ],
   "source": [
    "num1=int(input())\n",
    "num2=int(input())\n",
    "num3=int(input())\n",
    "if num1>num2 and num1>num3:\n",
    "    print(f\"{num1} is largest number among three\")\n",
    "elif num2>num1 and num2>num3:\n",
    "    print(f\"{num2} is largest number among three\")\n",
    "else:\n",
    "    print(f\"{num3} is largest number among three\")"
   ]
  },
  {
   "cell_type": "code",
   "execution_count": null,
   "id": "e0277f1a",
   "metadata": {},
   "outputs": [],
   "source": []
  }
 ],
 "metadata": {
  "kernelspec": {
   "display_name": "Python 3",
   "language": "python",
   "name": "python3"
  },
  "language_info": {
   "codemirror_mode": {
    "name": "ipython",
    "version": 3
   },
   "file_extension": ".py",
   "mimetype": "text/x-python",
   "name": "python",
   "nbconvert_exporter": "python",
   "pygments_lexer": "ipython3",
   "version": "3.10.9"
  }
 },
 "nbformat": 4,
 "nbformat_minor": 5
}
