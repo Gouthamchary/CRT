{
 "cells": [
  {
   "cell_type": "code",
   "execution_count": 2,
   "id": "06b4c7c7",
   "metadata": {},
   "outputs": [
    {
     "name": "stdout",
     "output_type": "stream",
     "text": [
      "['support@example.com', 'sales@example.org']\n"
     ]
    }
   ],
   "source": [
    "#DAY 15\n",
    "'''Write a Python function using regular expressions \n",
    "to extract all email addresses from a given string. \n",
    "Test it with the input: 'Contact us at support@example.com \n",
    "and sales@example.org.' '''\n",
    "\n",
    "import re\n",
    "\n",
    "def extract_emails(text):\n",
    "    return re.findall(r'[a-zA-Z0-9._%+-]+@[a-zA-Z0-9.-]+\\.[a-zA-Z]{2,}', text)\n",
    "\n",
    "# Test\n",
    "text = 'Contact us at support@example.com and sales@example.org.'\n",
    "print(extract_emails(text))\n"
   ]
  },
  {
   "cell_type": "code",
   "execution_count": null,
   "id": "57898ada",
   "metadata": {},
   "outputs": [],
   "source": []
  }
 ],
 "metadata": {
  "kernelspec": {
   "display_name": "Python 3 (ipykernel)",
   "language": "python",
   "name": "python3"
  },
  "language_info": {
   "codemirror_mode": {
    "name": "ipython",
    "version": 3
   },
   "file_extension": ".py",
   "mimetype": "text/x-python",
   "name": "python",
   "nbconvert_exporter": "python",
   "pygments_lexer": "ipython3",
   "version": "3.10.9"
  }
 },
 "nbformat": 4,
 "nbformat_minor": 5
}
