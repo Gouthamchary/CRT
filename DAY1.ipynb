{
 "cells": [
  {
   "cell_type": "code",
   "execution_count": 1,
   "id": "83ee5a11",
   "metadata": {},
   "outputs": [
    {
     "name": "stdout",
     "output_type": "stream",
     "text": [
      "5\n",
      "<class 'int'>\n",
      "7.0\n",
      "<class 'float'>\n",
      "Goutham\n",
      "<class 'str'>\n",
      "True\n",
      "<class 'bool'>\n"
     ]
    }
   ],
   "source": [
    "#Coding Questions\n",
    "#Day1\n",
    "\n",
    "#Write a program in Jupyter Notebook to declare variables of different data types \n",
    "#(integer, float, string, and boolean). Print each variable and its type.\n",
    "\n",
    "num=5\n",
    "float1=7.0\n",
    "string=\"Goutham\"\n",
    "boolean=True\n",
    "print(num)\n",
    "print(type(num))\n",
    "print(float1)\n",
    "print(type(float1))\n",
    "print(string)\n",
    "print(type(string))\n",
    "print(boolean)\n",
    "print(type(boolean))"
   ]
  }
 ],
 "metadata": {
  "kernelspec": {
   "display_name": "Python 3 (ipykernel)",
   "language": "python",
   "name": "python3"
  },
  "language_info": {
   "codemirror_mode": {
    "name": "ipython",
    "version": 3
   },
   "file_extension": ".py",
   "mimetype": "text/x-python",
   "name": "python",
   "nbconvert_exporter": "python",
   "pygments_lexer": "ipython3",
   "version": "3.10.9"
  }
 },
 "nbformat": 4,
 "nbformat_minor": 5
}
