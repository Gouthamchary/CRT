{
  "nbformat": 4,
  "nbformat_minor": 0,
  "metadata": {
    "colab": {
      "provenance": [],
      "authorship_tag": "ABX9TyPNnh4oDownrLoUNIwj1fow",
      "include_colab_link": true
    },
    "kernelspec": {
      "name": "python3",
      "display_name": "Python 3"
    },
    "language_info": {
      "name": "python"
    }
  },
  "cells": [
    {
      "cell_type": "markdown",
      "metadata": {
        "id": "view-in-github",
        "colab_type": "text"
      },
      "source": [
        "<a href=\"https://colab.research.google.com/github/Gouthamchary/CRT/blob/master/chatbot.ipynb\" target=\"_parent\"><img src=\"https://colab.research.google.com/assets/colab-badge.svg\" alt=\"Open In Colab\"/></a>"
      ]
    },
    {
      "cell_type": "code",
      "execution_count": 3,
      "metadata": {
        "colab": {
          "base_uri": "https://localhost:8080/"
        },
        "id": "auaprCQQsCz1",
        "outputId": "f1a105b8-ac1d-44fc-d46a-f57e8131838e"
      },
      "outputs": [
        {
          "output_type": "stream",
          "name": "stderr",
          "text": [
            "[nltk_data] Downloading package punkt_tab to /root/nltk_data...\n",
            "[nltk_data]   Package punkt_tab is already up-to-date!\n"
          ]
        },
        {
          "output_type": "stream",
          "name": "stdout",
          "text": [
            "Chatbot: Hello! I'm your friendly chatbot. Type 'exit' to end the conversation.\n",
            "You: hi\n",
            "Chatbot: Nice to see you!\n",
            "You: How are you\n",
            "Chatbot: I can answer questions and chat with you.\n",
            "You: Good\n",
            "Chatbot: I'm not sure how to respond to that. Could you rephrase that?\n",
            "You: exit\n",
            "Chatbot: Goodbye! Have a great day!\n"
          ]
        }
      ],
      "source": [
        "import random # Generating random numbers\n",
        "import nltk  # NLP module\n",
        "from nltk.stem import PorterStemmer\n",
        "# Initialize NLTK and download required resources\n",
        "nltk.download('punkt_tab')\n",
        "\n",
        "stemmer = PorterStemmer()\n",
        "\n",
        "data = {\n",
        "    \"greetings\": [\"hello\", \"hi\", \"hey\", \"howdy\", \"hola\", \"good morning\", \"good afternoon\", \"good evening\", \"what's up\", \"yo\"],\n",
        "    \"responses\": [\"Hello!\", \"Hi there!\", \"Hey!\", \"Greetings!\", \"How can I help you?\", \"Nice to see you!\", \"Hi, how are you?\", \"Hey, what's going on?\"],\n",
        "    \"farewells\": [\"bye\", \"goodbye\", \"see you later\", \"take care\", \"farewell\", \"have a good day\", \"catch you later\"],\n",
        "    \"farewell_responses\": [\"Goodbye!\", \"See you later!\", \"Take care!\", \"Have a great day!\", \"Bye! Come back soon!\", \"Farewell!\"],\n",
        "    \"questions\": [\"how are you\", \"what's your name\", \"what can you do\", \"who created you\", \"what's the weather today\"],\n",
        "    \"question_responses\": [\"I'm just a bot, but I'm doing great!\", \"I'm your friendly chatbot!\", \"I can answer questions and chat with you.\", \"I was created to test.\", \"I don't know the weather, but you can check online!\"],\n",
        "    \"small_talk\": [\"tell me a joke\", \"what's new\", \"how's it going\", \"what are you up to\"],\n",
        "    \"small_talk_responses\": [\"Why don't scientists trust atoms? Because they make up everything!\", \"Not much, just here to chat with you!\", \"It's going well, thanks for asking!\", \"Just waiting to help you out!\"],\n",
        "}\n",
        "\n",
        "# Map intent categories to their corresponding response categories\n",
        "INTENT_RESPONSE_MAP = {\n",
        "    \"greetings\": \"responses\",\n",
        "    \"farewells\": \"farewell_responses\",\n",
        "    \"questions\": \"question_responses\",\n",
        "    \"small_talk\": \"small_talk_responses\"\n",
        "}\n",
        "def preprocess(sentence):\n",
        "    \"\"\"Tokenize and stem the input sentence\"\"\"\n",
        "    tokens = nltk.word_tokenize(sentence.lower())\n",
        "    return [stemmer.stem(token) for token in tokens]\n",
        "\n",
        "def get_response(user_input):\n",
        "    \"\"\"Return a response based on the user's input\"\"\"\n",
        "    processed_input = preprocess(user_input)\n",
        "\n",
        "    # Check all pattern categories\n",
        "    for intent_category, response_category in INTENT_RESPONSE_MAP.items():\n",
        "        for pattern in data[intent_category]:\n",
        "            processed_pattern = preprocess(pattern)\n",
        "            if set(processed_pattern).issubset(set(processed_input)):  # More accurate matching\n",
        "                return random.choice(data[response_category])\n",
        "\n",
        "    # Fallback response for unknown inputs\n",
        "    return \"I'm not sure how to respond to that. Could you rephrase that?\"\n",
        "\n",
        "def chat():\n",
        "    \"\"\"Main chatbot function\"\"\"\n",
        "    print(\"Chatbot: Hello! I'm your friendly chatbot. Type 'exit' to end the conversation.\")\n",
        "    while True:\n",
        "        user_input = input(\"You: \").strip()\n",
        "        if user_input.lower() == \"exit\":\n",
        "            print(\"Chatbot: Goodbye! Have a great day!\")\n",
        "            break\n",
        "        response = get_response(user_input)\n",
        "        print(f\"Chatbot: {response}\")\n",
        "\n",
        "if __name__ == \"__main__\":\n",
        "    chat()"
      ]
    },
    {
      "cell_type": "code",
      "source": [],
      "metadata": {
        "id": "GvFhGXXfsG7B"
      },
      "execution_count": null,
      "outputs": []
    }
  ]
}