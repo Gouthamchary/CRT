{
 "cells": [
  {
   "cell_type": "code",
   "execution_count": 1,
   "id": "41805ae0",
   "metadata": {},
   "outputs": [
    {
     "name": "stdout",
     "output_type": "stream",
     "text": [
      "Enter a positive number: 50\n",
      "The sum of all even numbers from 1 to 50 is: 650\n"
     ]
    }
   ],
   "source": [
    "#DAY4\n",
    "\n",
    "#Write a Python program to calculate the sum of all even numbers between 1 and a given positive integer n\n",
    "\n",
    "def sum_of_evens(n):\n",
    "    total = 0\n",
    "    for num in range(2, n + 1, 2):  \n",
    "        total += num\n",
    "    return total\n",
    "\n",
    "n = int(input(\"Enter a positive number: \"))\n",
    "\n",
    "if n > 0:\n",
    "    print(\"The sum of all even numbers from 1 to\", n, \"is:\", sum_of_evens(n))\n",
    "else:\n",
    "    print(\"Please enter a positive number!\")\n"
   ]
  },
  {
   "cell_type": "code",
   "execution_count": null,
   "id": "4b0da14d",
   "metadata": {},
   "outputs": [],
   "source": []
  }
 ],
 "metadata": {
  "kernelspec": {
   "display_name": "Python 3 (ipykernel)",
   "language": "python",
   "name": "python3"
  },
  "language_info": {
   "codemirror_mode": {
    "name": "ipython",
    "version": 3
   },
   "file_extension": ".py",
   "mimetype": "text/x-python",
   "name": "python",
   "nbconvert_exporter": "python",
   "pygments_lexer": "ipython3",
   "version": "3.10.9"
  }
 },
 "nbformat": 4,
 "nbformat_minor": 5
}
