{
 "cells": [
  {
   "cell_type": "code",
   "execution_count": 3,
   "id": "7244994d",
   "metadata": {},
   "outputs": [
    {
     "name": "stdout",
     "output_type": "stream",
     "text": [
      "Original Tokens: This is a simple example for running, testing and preprocessing the data better.\n",
      "Processed Tokens: ['simple', 'example', 'running,', 'test', 'preprocess', 'data', 'better.']\n"
     ]
    }
   ],
   "source": [
    "#DAY7\n",
    "#Write a Python script that:\n",
    "#1. Use Genism to preprocess data from a sample text file, follow basic procedures \n",
    "#like tokenization, stemming, lemmatization etc.\n",
    "\n",
    "stop_words = set([\"the\", \"is\", \"in\", \"and\", \"to\", \"a\", \"of\", \"on\", \"it\", \"for\", \"with\", \"this\", \"that\", \"you\"])\n",
    "\n",
    "def stem_word(word):\n",
    "    suffixes = [\"ing\", \"ly\", \"ed\", \"s\", \"es\", \"er\"]\n",
    "    for suffix in suffixes:\n",
    "        if word.endswith(suffix):\n",
    "            return word[:-len(suffix)]\n",
    "    return word\n",
    "\n",
    "def lemmatize_word(word):\n",
    "    lemma_map = {\"running\": \"run\", \"better\": \"good\", \"went\": \"go\", \"children\": \"child\"}\n",
    "    return lemma_map.get(word, word)\n",
    "\n",
    "def preprocess_text(text):\n",
    "    text = text.lower()    \n",
    "    tokens = text.split()    \n",
    "    tokens = [word for word in tokens if word not in stop_words]\n",
    "    tokens = [stem_word(word) for word in tokens]\n",
    "    \n",
    "    tokens = [lemmatize_word(word) for word in tokens]\n",
    "    \n",
    "    return tokens\n",
    "\n",
    "text = \"This is a simple example for running, testing and preprocessing the data better.\"\n",
    "print(\"Original Tokens:\",text)\n",
    "processed_tokens = preprocess_text(text)\n",
    "print(\"Processed Tokens:\", processed_tokens)\n"
   ]
  },
  {
   "cell_type": "code",
   "execution_count": null,
   "id": "e1e6a941",
   "metadata": {},
   "outputs": [],
   "source": []
  }
 ],
 "metadata": {
  "kernelspec": {
   "display_name": "Python 3 (ipykernel)",
   "language": "python",
   "name": "python3"
  },
  "language_info": {
   "codemirror_mode": {
    "name": "ipython",
    "version": 3
   },
   "file_extension": ".py",
   "mimetype": "text/x-python",
   "name": "python",
   "nbconvert_exporter": "python",
   "pygments_lexer": "ipython3",
   "version": "3.10.9"
  }
 },
 "nbformat": 4,
 "nbformat_minor": 5
}
