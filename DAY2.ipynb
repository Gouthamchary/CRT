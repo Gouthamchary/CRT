{
 "cells": [
  {
   "cell_type": "code",
   "execution_count": 10,
   "id": "b7a0229c",
   "metadata": {},
   "outputs": [
    {
     "name": "stdout",
     "output_type": "stream",
     "text": [
      "[2, 4, 6, 8, 10]\n",
      "(1, 3, 5, 7, 9)\n",
      "{'apple': 4, 'banana': 5, 'jackfruit': 2, 'kiwi': 8, 'mango': 7}\n",
      "[4, 6, 8]\n",
      "(5, 7, 9)\n",
      "4\n"
     ]
    }
   ],
   "source": [
    "#DAY2\n",
    "#Create a List, tuple and Dictionary with 5 elements in it and how to access few elements based on the index. \n",
    "#Try  with different examples \n",
    "\n",
    "#declaring variable with elements\n",
    "list1=[2,4,6,8,10]\n",
    "tuple1=(1,3,5,7,9)\n",
    "dict1={\"apple\":4,\n",
    "      \"banana\":5,\n",
    "      \"jackfruit\":2,\n",
    "      \"kiwi\":8,\n",
    "      \"mango\":7}\n",
    "print(list1)\n",
    "print(tuple1)\n",
    "print(dict1)\n",
    "print(list1[1:4]) #accessing list elements\n",
    "print(tuple1[2:5])# accessing tuple elements\n",
    "print(dict1[\"apple\"]) #accessing dictionary elements"
   ]
  }
 ],
 "metadata": {
  "kernelspec": {
   "display_name": "Python 3 (ipykernel)",
   "language": "python",
   "name": "python3"
  },
  "language_info": {
   "codemirror_mode": {
    "name": "ipython",
    "version": 3
   },
   "file_extension": ".py",
   "mimetype": "text/x-python",
   "name": "python",
   "nbconvert_exporter": "python",
   "pygments_lexer": "ipython3",
   "version": "3.10.9"
  }
 },
 "nbformat": 4,
 "nbformat_minor": 5
}
